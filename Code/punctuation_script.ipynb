{
 "metadata": {
  "language_info": {
   "codemirror_mode": {
    "name": "ipython",
    "version": 3
   },
   "file_extension": ".py",
   "mimetype": "text/x-python",
   "name": "python",
   "nbconvert_exporter": "python",
   "pygments_lexer": "ipython3",
   "version": "3.8.3-final"
  },
  "orig_nbformat": 2,
  "kernelspec": {
   "name": "python3",
   "display_name": "Python 3",
   "language": "python"
  }
 },
 "nbformat": 4,
 "nbformat_minor": 2,
 "cells": [
  {
   "source": [
    "Here, I am going to try to systematically punctuate the narratives we have. I am going to begin by loading in the libraries and th punctuation model that was on the website. We could potentially train our own but I have no idea how to do that. "
   ],
   "cell_type": "markdown",
   "metadata": {}
  },
  {
   "cell_type": "code",
   "execution_count": 1,
   "metadata": {},
   "outputs": [],
   "source": [
    "import pandas as pd \n",
    "import numpy as np \n",
    "from punctuator import Punctuator "
   ]
  },
  {
   "cell_type": "code",
   "execution_count": 2,
   "metadata": {},
   "outputs": [],
   "source": [
    "p = Punctuator('Demo-Europarl-EN.pcl')"
   ]
  },
  {
   "source": [
    "Let's try to import the data. "
   ],
   "cell_type": "markdown",
   "metadata": {}
  },
  {
   "cell_type": "code",
   "execution_count": 3,
   "metadata": {},
   "outputs": [],
   "source": [
    "yt_tscripts = pd.read_csv(\"~/Documents/walkaway_narr/Data/yt_first_100.csv\")"
   ]
  },
  {
   "cell_type": "code",
   "execution_count": 4,
   "metadata": {},
   "outputs": [
    {
     "output_type": "execute_result",
     "data": {
      "text/plain": [
       "       videoid                                               text\n",
       "0  _1K_KTlorhU  hello my walk away brothers and sisters my nam...\n",
       "1  _8dPBY0pn6A  hi Barbara millions of us would like to know w...\n",
       "2  _cJJzsiTClg  hi I'm grace this is my walk away video I'm wa...\n",
       "3  _dNmDQ5AHis  hey guys uh my name is paulie letofsky and i h...\n",
       "4  _DYYttXTjqk  well I hadn't planned on doing my walkaway vid..."
      ],
      "text/html": "<div>\n<style scoped>\n    .dataframe tbody tr th:only-of-type {\n        vertical-align: middle;\n    }\n\n    .dataframe tbody tr th {\n        vertical-align: top;\n    }\n\n    .dataframe thead th {\n        text-align: right;\n    }\n</style>\n<table border=\"1\" class=\"dataframe\">\n  <thead>\n    <tr style=\"text-align: right;\">\n      <th></th>\n      <th>videoid</th>\n      <th>text</th>\n    </tr>\n  </thead>\n  <tbody>\n    <tr>\n      <th>0</th>\n      <td>_1K_KTlorhU</td>\n      <td>hello my walk away brothers and sisters my nam...</td>\n    </tr>\n    <tr>\n      <th>1</th>\n      <td>_8dPBY0pn6A</td>\n      <td>hi Barbara millions of us would like to know w...</td>\n    </tr>\n    <tr>\n      <th>2</th>\n      <td>_cJJzsiTClg</td>\n      <td>hi I'm grace this is my walk away video I'm wa...</td>\n    </tr>\n    <tr>\n      <th>3</th>\n      <td>_dNmDQ5AHis</td>\n      <td>hey guys uh my name is paulie letofsky and i h...</td>\n    </tr>\n    <tr>\n      <th>4</th>\n      <td>_DYYttXTjqk</td>\n      <td>well I hadn't planned on doing my walkaway vid...</td>\n    </tr>\n  </tbody>\n</table>\n</div>"
     },
     "metadata": {},
     "execution_count": 4
    }
   ],
   "source": [
    "# Check if it looks okay \n",
    "yt_tscripts.head()"
   ]
  },
  {
   "source": [
    "This looks good! Now, I'll try to extract and punctuate the text. Let's do just one to try it out. "
   ],
   "cell_type": "markdown",
   "metadata": {}
  },
  {
   "cell_type": "code",
   "execution_count": 5,
   "metadata": {},
   "outputs": [
    {
     "output_type": "stream",
     "name": "stdout",
     "text": [
      "Hello, my walk away, brothers and sisters. My name is wayne fisher. I live just outside of reading pennsylvania being from pennsylvania and having lived here for over 20 years, I was very proud to see that pennsylvania put president trump over the electoral college votes that he needed to win the 2016 election um. As long as I've lived here, I've never seen this state go red, so it was fantastic to see um. I shared a walk away, written testimonial back in august, but with brandon asking for more\n"
     ]
    }
   ],
   "source": [
    "first_narrative = yt_tscripts.iloc[0]['text']\n",
    "print(p.punctuate(first_narrative)[:500])"
   ]
  },
  {
   "source": [
    "Okay, this punctuator is pretty dang impressive. "
   ],
   "cell_type": "markdown",
   "metadata": {}
  },
  {
   "cell_type": "code",
   "execution_count": 8,
   "metadata": {},
   "outputs": [
    {
     "output_type": "stream",
     "name": "stdout",
     "text": [
      "working on row 0\n",
      "working on row 10\n",
      "working on row 20\n",
      "working on row 30\n",
      "working on row 40\n",
      "working on row 50\n",
      "working on row 60\n",
      "working on row 70\n",
      "working on row 80\n",
      "working on row 90\n"
     ]
    }
   ],
   "source": [
    "# Now let's do this iteratively\n",
    "# Empty repository \n",
    "list_punc_narratives = []\n",
    "\n",
    "for row in range(len(yt_tscripts)):\n",
    "    clean_text = p.punctuate(yt_tscripts.iloc[row]['text'])\n",
    "    if (row % 10 == 0):\n",
    "        print(f'working on row {row}')\n",
    "    list_punc_narratives.append(clean_text)"
   ]
  },
  {
   "cell_type": "code",
   "execution_count": 9,
   "metadata": {},
   "outputs": [],
   "source": [
    "clean_dict = {'punctuated_narratives': list_punc_narratives}\n",
    "df_pn = pd.DataFrame(clean_dict)\n",
    "# Add to what we had \n",
    "df =  pd.concat([yt_tscripts,df_pn], axis = 1)\n"
   ]
  },
  {
   "cell_type": "code",
   "execution_count": 10,
   "metadata": {},
   "outputs": [],
   "source": [
    "# Now save it \n",
    "df.to_csv(\"~/Documents/walkaway_narr/Data/punctuated_narratives.csv\")"
   ]
  }
 ]
}